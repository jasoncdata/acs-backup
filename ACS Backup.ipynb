{
 "cells": [
  {
   "cell_type": "markdown",
   "id": "6c40c354",
   "metadata": {},
   "source": [
    "# ACS Backup\n",
    "This script downloads and saves CT (state, county, planning region, town) ACS data for user-specified years and table IDs. A full list of table IDs can be downloaded on the [Census Bureau's website](https://www.census.gov/programs-surveys/acs/technical-documentation/table-shells.html)."
   ]
  },
  {
   "cell_type": "code",
   "execution_count": null,
   "id": "389ba64f",
   "metadata": {},
   "outputs": [],
   "source": [
    "import censusdis.data as ced\n",
    "from censusdis.impl.fetch import CensusApiException\n",
    "import pandas as pd\n",
    "import time\n",
    "import os"
   ]
  },
  {
   "cell_type": "markdown",
   "id": "2d23e4d4",
   "metadata": {},
   "source": [
    "## Specify Inputs"
   ]
  },
  {
   "cell_type": "code",
   "execution_count": null,
   "id": "11ed86ad",
   "metadata": {},
   "outputs": [],
   "source": [
    "API_KEY = ''"
   ]
  },
  {
   "cell_type": "code",
   "execution_count": null,
   "id": "7cfcea3f",
   "metadata": {},
   "outputs": [],
   "source": [
    "years = years = list(range(2010, 2024))"
   ]
  },
  {
   "cell_type": "code",
   "execution_count": null,
   "id": "e2b712e7",
   "metadata": {},
   "outputs": [],
   "source": [
    "# Table IDs of interest\n",
    "tables = []"
   ]
  },
  {
   "cell_type": "markdown",
   "id": "8769c762",
   "metadata": {},
   "source": [
    "## Functions to Download Data"
   ]
  },
  {
   "cell_type": "markdown",
   "id": "ecdb3af8",
   "metadata": {},
   "source": [
    "Map the table type (profile, supplemental estimate, subject, other) to the correct URL."
   ]
  },
  {
   "cell_type": "code",
   "execution_count": null,
   "id": "9ab7df0c",
   "metadata": {},
   "outputs": [],
   "source": [
    "def get_dataset(table):\n",
    "    if table.startswith('D'):\n",
    "        return 'acs/acs5/profile'\n",
    "    elif table.startswith('K'):\n",
    "        return 'acs/acs5/acsse'\n",
    "    elif table.startswith('S'):\n",
    "        return 'acs/acs5/subject'\n",
    "    else:\n",
    "        return 'acs/acs5'"
   ]
  },
  {
   "cell_type": "markdown",
   "id": "3d1b6abf",
   "metadata": {},
   "source": [
    "Get estimates and margins of errors for specified years and tables."
   ]
  },
  {
   "cell_type": "code",
   "execution_count": null,
   "id": "8bd85780",
   "metadata": {},
   "outputs": [],
   "source": [
    "def get_data(years, tables):\n",
    "    \n",
    "    for table in tables:\n",
    "        dataset = get_dataset(table)\n",
    "        start_time = time.time() # Start timer\n",
    "        all_years_combined = []\n",
    "\n",
    "        for year in years:\n",
    "            try:\n",
    "                # Get variable codes\n",
    "                df_variables = ced.variables.all_variables(dataset, year, table)\n",
    "                variables = [variable for variable in df_variables['VARIABLE']]\n",
    "                \n",
    "                # Add MOE variables\n",
    "                all_variables = []\n",
    "                for var in variables:\n",
    "                    all_variables.append(var)\n",
    "                    if var.endswith('E') and var != 'NAME': # Check if it's an estimate variable\n",
    "                        moe_var = var[:-1] + 'M' # Replace 'E' with 'M'\n",
    "                        all_variables.append(moe_var)\n",
    "        \n",
    "                # Download data for state, county/cog, and town\n",
    "                state_df = ced.download(dataset, year, all_variables, state=\"09\", api_key=API_KEY)\n",
    "                county_df = ced.download(dataset, year, all_variables, state=\"09\", county=\"*\", api_key=API_KEY)\n",
    "                town_df = ced.download(dataset, year, all_variables, state=\"09\", county_subdivision=\"*\", api_key=API_KEY)\n",
    "                \n",
    "                # Add current year before concatenating (fragmentation warning adding the col after concatenating)\n",
    "                for df in [state_df, county_df, town_df]:\n",
    "                    df['year'] = year\n",
    "\n",
    "                # Combine data for the current year and add year col\n",
    "                combined_df = pd.concat([state_df, county_df, town_df], ignore_index=True)\n",
    "                \n",
    "                # Append to the list for all years\n",
    "                all_years_combined.append(combined_df)\n",
    "\n",
    "            except CensusApiException as e:\n",
    "                print(f\"{table}: No data for {year}\")\n",
    "\n",
    "        # Final combined df for the current table\n",
    "        if all_years_combined: # Only concatenate if there's data\n",
    "            final_combined_df = pd.concat(all_years_combined, ignore_index=True)\n",
    "            \n",
    "            # Reorder columns\n",
    "            priority_columns = ['year', 'NAME', 'GEO_ID', 'STATE', 'COUNTY', 'COUNTY_SUBDIVISION']\n",
    "            existing_priority_cols = [col for col in priority_columns if col in final_combined_df.columns]\n",
    "            other_columns = [col for col in final_combined_df.columns if col not in existing_priority_cols]\n",
    "            \n",
    "            # Apply new column order\n",
    "            final_combined_df = final_combined_df[existing_priority_cols + other_columns]\n",
    "            \n",
    "            # Output to CSV\n",
    "            output_filename = f\"{table}.csv\"\n",
    "            final_combined_df.to_csv(f\"2010 to 2023 5-Year ACS Data/{output_filename}\", index=False)\n",
    "        \n",
    "        # Calculate the elapsed time\n",
    "        elapsed_time = (time.time() - start_time) / 60  # Convert to minutes\n",
    "        print(f\"{table} complete ({elapsed_time:.1f} minutes)\")\n"
   ]
  },
  {
   "cell_type": "code",
   "execution_count": null,
   "id": "ca84a7cd",
   "metadata": {
    "scrolled": true
   },
   "outputs": [],
   "source": [
    "get_data(years, tables)"
   ]
  }
 ],
 "metadata": {
  "kernelspec": {
   "display_name": "Python 3 (ipykernel)",
   "language": "python",
   "name": "python3"
  },
  "language_info": {
   "codemirror_mode": {
    "name": "ipython",
    "version": 3
   },
   "file_extension": ".py",
   "mimetype": "text/x-python",
   "name": "python",
   "nbconvert_exporter": "python",
   "pygments_lexer": "ipython3",
   "version": "3.11.4"
  }
 },
 "nbformat": 4,
 "nbformat_minor": 5
}
